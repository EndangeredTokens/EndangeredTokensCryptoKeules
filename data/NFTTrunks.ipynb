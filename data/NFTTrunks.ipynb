{
 "cells": [
  {
   "cell_type": "markdown",
   "metadata": {
    "id": "SfUz8o44h01c"
   },
   "source": [
    "#Importación archivos base"
   ]
  },
  {
   "cell_type": "code",
   "execution_count": 1,
   "metadata": {
    "id": "2Ez9SrOqF4sE"
   },
   "outputs": [],
   "source": [
    "from layer1 import layer1\n",
    "from layer2 import layer2\n",
    "from layer3 import layer3\n",
    "from layer4 import layer4\n",
    "from layer5 import layer5\n",
    "from layer6 import layer6\n",
    "from layer7 import layer7\n",
    "from layer8 import layer8\n",
    "from layer9 import layer9\n",
    "from layer10 import layer10\n",
    "\n",
    "layers = [\n",
    "  list(layer1.keys()),\n",
    "  list(layer2.keys()),\n",
    "  list(layer3.keys()),\n",
    "  list(layer4.keys()),\n",
    "  list(layer5.keys()),\n",
    "  list(layer6.keys()),\n",
    "  list(layer7.keys()),\n",
    "  list(layer8.keys()),\n",
    "  list(layer9.keys()),\n",
    "  list(layer10.keys())\n",
    "]\n",
    "allinfo = [\n",
    "  layer1,\n",
    "  layer2,\n",
    "  layer3,\n",
    "  layer4,\n",
    "  layer5,\n",
    "  layer6,\n",
    "  layer7,\n",
    "  layer8,\n",
    "  layer9,\n",
    "  layer10\n",
    "]\n",
    "name_layers = [\"Background Color\", \"Background Elements\", \"Soil type\", \"Roots elements\", \"Body\", \"Branches\", \"Animal\", \"Liana\", \"Extras\", \"Fruit\"]\n",
    "\n",
    "if len(name_layers) != len(layers): print('ERROR: LAS LISTAS DEBEN TENER EL MISMO TAMAÑO')"
   ]
  },
  {
   "cell_type": "markdown",
   "metadata": {
    "id": "j8pJwpUiiDtq"
   },
   "source": [
    "#Calculo todas las combinatorias"
   ]
  },
  {
   "cell_type": "code",
   "execution_count": 2,
   "metadata": {
    "id": "T4ZqIOTrGoHB"
   },
   "outputs": [],
   "source": [
    "def build_image(layers: list):\n",
    "    meta_image_list = []\n",
    "    prob_image_list = []\n",
    "    length_layers = len(layers)-1\n",
    "\n",
    "    def recursive(base_layer, base_prob,layers_index):\n",
    "        layer_index = 0\n",
    "        length_layer = len(layers[layers_index])\n",
    "        while layer_index < length_layer:\n",
    "            meta_image = base_layer.copy()\n",
    "            prob_image = base_prob.copy()\n",
    "            layer = allinfo[layers_index][layers[layers_index][layer_index]]\n",
    "            meta_image.append(layers[layers_index][layer_index])\n",
    "            prob_image.append(layer['prob'])\n",
    "            restrictions = layer['prev']\n",
    "            if len(meta_image) > 0 and len(restrictions) > 0:\n",
    "                for restriction in restrictions:\n",
    "                    if restriction in meta_image:\n",
    "                        meta_image.pop(-1)\n",
    "            if layers_index == length_layers:\n",
    "                if len(meta_image) == length_layers + 1:\n",
    "                    meta_image_list.append(meta_image)\n",
    "                    prob_image_list.append(prob_image)\n",
    "            else:\n",
    "                recursive(meta_image, prob_image,layers_index+1)\n",
    "            layer_index += 1\n",
    "    recursive([],[], 0)\n",
    "    return  meta_image_list, prob_image_list\n"
   ]
  },
  {
   "cell_type": "code",
   "execution_count": 3,
   "metadata": {
    "id": "9SFCwbl3Gpq6"
   },
   "outputs": [],
   "source": [
    "meta_image_combinations, probability_imagebylayer_combinations = build_image(layers)"
   ]
  },
  {
   "cell_type": "markdown",
   "metadata": {
    "id": "m9E4J3j5iHME"
   },
   "source": [
    "#Calculo de probabilidades de cada combinatoria"
   ]
  },
  {
   "cell_type": "code",
   "execution_count": 4,
   "metadata": {
    "colab": {
     "base_uri": "https://localhost:8080/",
     "height": 237
    },
    "id": "h-JSpA2SGq4o",
    "outputId": "1502edf8-4fd6-48f7-d99c-94f6a6de4b8c"
   },
   "outputs": [],
   "source": [
    "probability_image_combinations = []\n",
    "for index_image, image in enumerate(meta_image_combinations):\n",
    "    probability = 1\n",
    "    for index_layer, layer in enumerate(image):\n",
    "      probability = probability * probability_imagebylayer_combinations[index_image][index_layer]\n",
    "    probability_image_combinations.append(probability)"
   ]
  },
  {
   "cell_type": "markdown",
   "metadata": {
    "id": "r5Edya34iK1J"
   },
   "source": [
    "#Remover las imagenes con probabilidad 0"
   ]
  },
  {
   "cell_type": "code",
   "execution_count": 5,
   "metadata": {
    "id": "kKFlw7OQ_Njx"
   },
   "outputs": [],
   "source": [
    "meta_image_combinations_zeroless = []\n",
    "probability_image_combinations_zeroless = []\n",
    "for index_probability, probability in enumerate(probability_image_combinations):\n",
    "  if probability != 0:\n",
    "    probability_image_combinations_zeroless.append(probability)\n",
    "    meta_image_combinations_zeroless.append(meta_image_combinations[index_probability]) "
   ]
  },
  {
   "cell_type": "markdown",
   "metadata": {
    "id": "P2A6C0xGiOsz"
   },
   "source": [
    "Crear los requerimientos para luego obtener todos ellos de una manera random y despues rellenar los faltantes random. Ej. Necesito 1000 noches y 500 arcoiris y generar un total de 5000 imagenes, el codigo eligira 1000 noches y 500 arcoiris y despues eligira las 3500 restantes de una manera aleatoria."
   ]
  },
  {
   "cell_type": "code",
   "execution_count": 6,
   "metadata": {
    "id": "IyhcmQq5NdOp"
   },
   "outputs": [],
   "source": [
    "requirement_dict = {}\n",
    "for index, layer in enumerate(allinfo):\n",
    "  for name in layer.keys():\n",
    "    if 'selection' in layer[name]:\n",
    "      requirement_dict[f'{index}_{name}'] = int(layer[name]['prob']*9990)"
   ]
  },
  {
   "cell_type": "code",
   "execution_count": 7,
   "metadata": {
    "id": "oRzuY7EP3izS"
   },
   "outputs": [],
   "source": [
    "import random \n",
    "\n",
    "requirement_dict_copy = requirement_dict.copy()\n",
    "meta_image_combinations_zeroless_copy = meta_image_combinations_zeroless.copy()\n",
    "meta_image_selection = []\n",
    "\n",
    "for requirements in list(reversed(list(requirement_dict_copy.keys()))):\n",
    "  while requirement_dict_copy[requirements] > 0:\n",
    "    choice = random.randint(0, len(meta_image_combinations_zeroless_copy)-1)\n",
    "    choice_image = meta_image_combinations_zeroless_copy[choice]\n",
    "    limit = False\n",
    "    hasitem = False\n",
    "    for index, layer in enumerate(choice_image):\n",
    "      if f'{index}_{layer}' == requirements:\n",
    "        hasitem = True\n",
    "      if f'{index}_{layer}' in requirement_dict_copy and requirement_dict_copy[f'{index}_{layer}'] == 0:\n",
    "        limit = True\n",
    "        meta_image_combinations_zeroless_copy.pop(choice)\n",
    "        break\n",
    "    if limit == True or hasitem == False: continue\n",
    "    for index, layer in enumerate(choice_image):\n",
    "      if f'{index}_{layer}' in requirement_dict_copy:\n",
    "        requirement_dict_copy[f'{index}_{layer}'] = requirement_dict_copy[f'{index}_{layer}'] - 1\n",
    "    meta_image_selection.append(choice_image)\n",
    "    meta_image_combinations_zeroless_copy.pop(choice)\n",
    "    "
   ]
  },
  {
   "cell_type": "code",
   "execution_count": 8,
   "metadata": {
    "id": "Yajpaa2HWpLt"
   },
   "outputs": [],
   "source": [
    "import random \n",
    "\n",
    "meta_image_combinations_zeroless_copy = meta_image_combinations_zeroless.copy()\n",
    "forbidden = list(requirement_dict.keys())\n",
    "\n",
    "while len(meta_image_selection) < 9989:\n",
    "  choice = random.randint(0, len(meta_image_combinations_zeroless_copy)-1)\n",
    "  choice_image = meta_image_combinations_zeroless_copy[choice]\n",
    "  has_forbidden = False\n",
    "  for index, layer in enumerate(choice_image):\n",
    "    if f'{index}_{layer}' in forbidden:\n",
    "      has_forbidden = True\n",
    "      meta_image_combinations_zeroless_copy.pop(choice)\n",
    "      break\n",
    "  if has_forbidden == True: continue\n",
    "  meta_image_selection.append(choice_image)\n",
    "  meta_image_combinations_zeroless_copy.pop(choice)"
   ]
  },
  {
   "cell_type": "markdown",
   "metadata": {
    "id": "zVGd2IRXiuWH"
   },
   "source": [
    "#Verificar que las reglas se cumplieron"
   ]
  },
  {
   "cell_type": "code",
   "execution_count": 9,
   "metadata": {
    "colab": {
     "base_uri": "https://localhost:8080/"
    },
    "id": "2NGqmzV3ZxMU",
    "outputId": "8adf1f71-332d-4ec0-85c5-a25a52f2ab40"
   },
   "outputs": [
    {
     "name": "stdout",
     "output_type": "stream",
     "text": [
      "0_Black: 1000 --> OK\n",
      "1_Rainbow: 200 --> OK\n",
      "1_Sun/Rainbow: 200 --> OK\n",
      "1_Rainbow/Ufo: 100 --> OK\n",
      "1_Clouds/Rainbow: 100 --> OK\n",
      "1_Clouds/Cloud/Rainbow: 200 --> OK\n",
      "1_Clouds/Cloud/Rainbow/Sun: 100 --> OK\n",
      "1_Clouds/Rainbow/UFO: 100 --> OK\n",
      "1_Clouds/UFO: 100 --> OK\n",
      "1_Thndr/Star: 50 --> OK\n",
      "1_Thndr/Clouds/Star: 50 --> OK\n",
      "1_Thndr/Clouds/Moon: 10 --> OK\n",
      "1_Thndr/Clouds/UFO: 50 --> OK\n",
      "1_Thndr/Clouds/Cloud: 50 --> OK\n",
      "1_Thndr/Clouds/Cloud/Moon: 50 --> OK\n",
      "1_Thndr/Moon: 50 --> OK\n",
      "1_Thndr/Clouds: 50 --> OK\n",
      "1_Thndr/Ufo: 10 --> OK\n",
      "1_Thndr: 100 --> OK\n",
      "1_Stars/UFO: 20 --> OK\n",
      "1_Stars/Clouds/UFO: 20 --> OK\n",
      "3_Roots/Micelium/worms: 100 --> OK\n",
      "4_Trunk/Yellow Leaves: 500 --> OK\n",
      "4_Trunk/Green Leaves: 490 --> OK\n",
      "6_Special Spider: 50 --> OK\n",
      "6_Loica: 50 --> OK\n",
      "6_Frog: 300 --> OK\n",
      "6_Owl: 100 --> OK\n",
      "6_Lechuza: 100 --> OK\n",
      "7_Green: 500 --> OK\n",
      "7_Orange: 500 --> OK\n",
      "8_Corpse: 500 --> OK\n"
     ]
    }
   ],
   "source": [
    "for rule in forbidden:\n",
    "  typevar = 0\n",
    "  for index_image, image in enumerate(meta_image_selection):\n",
    "    for index_layer, layer in enumerate(image):\n",
    "      if f'{index_layer}_{layer}' == rule:\n",
    "        typevar += 1\n",
    "        break\n",
    "  print(f'{rule}: {typevar}', end=\" --> \")\n",
    "  if requirement_dict[f'{rule}'] == typevar: print('OK')"
   ]
  },
  {
   "cell_type": "markdown",
   "metadata": {
    "id": "pMEwR4P0iy0n"
   },
   "source": [
    "#Creación de imagenes"
   ]
  },
  {
   "cell_type": "code",
   "execution_count": 10,
   "metadata": {
    "id": "5HPEBtFfi_1q"
   },
   "outputs": [],
   "source": [
    "meta_image_sub_selection = meta_image_selection"
   ]
  },
  {
   "cell_type": "code",
   "execution_count": 11,
   "metadata": {
    "id": "y7bSzkQhG7qf"
   },
   "outputs": [],
   "source": [
    "import os\n",
    "dirname = 'base_images'\n",
    "for layer in allinfo:\n",
    "  for attribute in layer.values():\n",
    "    if os.path.exists(f'{dirname}/{attribute[\"file\"]}') == False:\n",
    "      print(f'Error: file {dirname}/{attribute[\"file\"]} does not exist')"
   ]
  },
  {
   "cell_type": "code",
   "execution_count": 12,
   "metadata": {
    "colab": {
     "base_uri": "https://localhost:8080/"
    },
    "id": "rxxu3mrJIJ1V",
    "outputId": "71e21343-189d-4cfb-8a74-c21a9d7597ba"
   },
   "outputs": [],
   "source": [
    "!rm -r results\n",
    "!mkdir results"
   ]
  },
  {
   "cell_type": "code",
   "execution_count": 13,
   "metadata": {
    "id": "DchJvBgIchDU"
   },
   "outputs": [],
   "source": [
    "#Comentar esta linea para crear las totas las imagenes y no solo una muestra.\n",
    "meta_image_sub_selection = meta_image_selection[::100]"
   ]
  },
  {
   "cell_type": "code",
   "execution_count": 14,
   "metadata": {
    "id": "zrPrXFB5wg0z"
   },
   "outputs": [],
   "source": [
    "random_name_list = list(range(1, len(meta_image_sub_selection)+2))\n",
    "name_list = []"
   ]
  },
  {
   "cell_type": "code",
   "execution_count": 15,
   "metadata": {
    "colab": {
     "base_uri": "https://localhost:8080/"
    },
    "id": "fLalL-TUHA09",
    "outputId": "73a1ce88-9060-4daf-a851-4ed26a6a1032"
   },
   "outputs": [
    {
     "name": "stdout",
     "output_type": "stream",
     "text": [
      "0\n"
     ]
    }
   ],
   "source": [
    "from PIL import Image\n",
    "image_base = None\n",
    "for index_meta_image, meta_image in enumerate(meta_image_sub_selection):\n",
    "  if index_meta_image % 100 == 0: print(index_meta_image)\n",
    "  for index_layer, layer in enumerate(meta_image):\n",
    "    if allinfo[index_layer][layer][\"file\"] == '':\n",
    "      continue\n",
    "    if image_base == None:\n",
    "      image_base = Image.open(f'{dirname}/{allinfo[index_layer][layer][\"file\"]}')\n",
    "      image_base = image_base.convert(\"RGBA\")\n",
    "      continue\n",
    "    image_actual = Image.open(f'{dirname}/{allinfo[index_layer][layer][\"file\"]}')\n",
    "    image_actual = image_actual.convert(\"RGBA\")\n",
    "    image_base.paste(image_actual, (0,0), mask=image_actual)\n",
    "  random_name = random.choice(random_name_list)\n",
    "  random_name_list.remove(random_name)\n",
    "  image_base.save(f'results/{random_name}.png')\n",
    "  name_list.append(random_name)"
   ]
  },
  {
   "cell_type": "markdown",
   "metadata": {
    "id": "Wotoz_c1jL4w"
   },
   "source": [
    "#Creación de los JSON"
   ]
  },
  {
   "cell_type": "code",
   "execution_count": 16,
   "metadata": {
    "colab": {
     "base_uri": "https://localhost:8080/"
    },
    "id": "tGHVT0xBfD1H",
    "outputId": "651dfce9-424f-4e2b-d357-3f87f5031751"
   },
   "outputs": [],
   "source": [
    "!rm -r results_json\n",
    "!mkdir results_json"
   ]
  },
  {
   "cell_type": "code",
   "execution_count": 17,
   "metadata": {
    "id": "A9hauIpdHfE6"
   },
   "outputs": [],
   "source": [
    "import json\n",
    "\n",
    "file = open('base.json')\n",
    "base_json = json.load(file)"
   ]
  },
  {
   "cell_type": "code",
   "execution_count": 18,
   "metadata": {
    "colab": {
     "base_uri": "https://localhost:8080/"
    },
    "id": "2YPKjB6eQ3Dm",
    "outputId": "b325fba5-0326-4ceb-d61b-7b535fcc2230"
   },
   "outputs": [
    {
     "name": "stdout",
     "output_type": "stream",
     "text": [
      "0\n"
     ]
    }
   ],
   "source": [
    "for index_meta_image , meta_image in enumerate(meta_image_sub_selection):\n",
    "  if index_meta_image % 100 == 0: print(index_meta_image)\n",
    "  base_json_image = base_json.copy()\n",
    "  base_json_image['name'] = f'CryptoKeule #{name_list[index_meta_image]}'\n",
    "  base_json_image['attributes'].clear()\n",
    "  base_json_image['attributes'].append({\"trait_type\": \"NFTrunk code\",\"value\": f\"CK{name_list[index_meta_image]}\"})\n",
    "  base_json_image['attributes'].append({\"trait_type\": \"CryptoKeule Code\",\"value\": name_list[index_meta_image]})\n",
    "  for index_layer, layer in enumerate(meta_image):\n",
    "    base_json_image['attributes'].append({\"trait_type\": name_layers[index_layer],\"value\": layer})\n",
    "  with open(f'results_json/{name_list[index_meta_image]}.json', 'w') as outfile:\n",
    "      json.dump(base_json_image, outfile)\n",
    "  outfile.close()"
   ]
  },
  {
   "cell_type": "markdown",
   "metadata": {
    "id": "q_Jh-77KjOjG"
   },
   "source": [
    "#Conectar a tu Google Drive y mover los resultados para alla. \n",
    "Tanto los png como los JSON"
   ]
  }
 ],
 "metadata": {
  "colab": {
   "collapsed_sections": [],
   "name": "NFTTrunks.ipynb",
   "provenance": []
  },
  "kernelspec": {
   "display_name": "Python 3 (ipykernel)",
   "language": "python",
   "name": "python3"
  },
  "language_info": {
   "codemirror_mode": {
    "name": "ipython",
    "version": 3
   },
   "file_extension": ".py",
   "mimetype": "text/x-python",
   "name": "python",
   "nbconvert_exporter": "python",
   "pygments_lexer": "ipython3",
   "version": "3.9.10"
  }
 },
 "nbformat": 4,
 "nbformat_minor": 4
}
